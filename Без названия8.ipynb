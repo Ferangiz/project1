{
 "cells": [
  {
   "cell_type": "code",
   "execution_count": 97,
   "id": "473447b3",
   "metadata": {},
   "outputs": [],
   "source": [
    "import numpy as np\n",
    "import sympy\n",
    "import math\n",
    "from sympy import *\n",
    "from sympy.matrices import Matrix"
   ]
  },
  {
   "cell_type": "code",
   "execution_count": 100,
   "id": "c22a2b8c",
   "metadata": {},
   "outputs": [],
   "source": [
    "def telesniy_ugol_1(A, B, D):\n",
    "    AB = B[0]-A[0], B[1]-A[1], B[2]-A[2]\n",
    "    AD = D[0]-A[0], D[1]-A[1], D[2]-A[2]\n",
    "    BD = D[0]-B[0], D[1]-B[1], D[2]-B[2]\n",
    "    lenr1 = math.sqrt( ((B[0]-A[0])**2)+((B[1]-A[1])**2)+(B[2]-A[2])**2)\n",
    "    lenr2 = math.sqrt( ((D[0]-A[0])**2)+((D[1]-A[1])**2)+(D[2]-A[2])**2)\n",
    "    lenr3 = math.sqrt( ((D[0]-B[0])**2)+((D[1]-B[1])**2)+(D[2]-B[2])**2)\n",
    "    a_1=np.array(AB)\n",
    "    b_1=np.array(AD)\n",
    "    c_1=lenr3*np.dot(a_1,b_1)\n",
    "    a_2=np.array(AD)\n",
    "    b_2=np.array(BD)\n",
    "    c_2=lenr1*np.dot(a_2,b_2)\n",
    "    a_3=np.array(BD)\n",
    "    b_3=np.array(AB)\n",
    "    c_3=lenr2*np.dot(a_3,b_3)\n",
    "    l=lenr1*lenr2*lenr3\n",
    "    m_1=np.matrix([AB, AD, BD])\n",
    "    a=np.linalg.det(m_1)\n",
    "    w=2*atan(a/(l+c_1+c_2+c_3))\n",
    "    return AB, AD, BD, lenr1, lenr2, lenr3, c_1, c_2, c_3, l, m_1, a, w"
   ]
  },
  {
   "cell_type": "code",
   "execution_count": 101,
   "id": "ce7582ac",
   "metadata": {},
   "outputs": [
    {
     "data": {
      "text/plain": [
       "((1, 7, 6),\n",
       " (3, 11, 4),\n",
       " (2, 4, -2),\n",
       " 9.273618495495704,\n",
       " 12.083045973594572,\n",
       " 4.898979485566356,\n",
       " 509.493866498901,\n",
       " 389.49197681081955,\n",
       " 217.49482752470232,\n",
       " 548.9480849770769,\n",
       " matrix([[ 1,  7,  6],\n",
       "         [ 3, 11,  4],\n",
       "         [ 2,  4, -2]]),\n",
       " -3.700743415417182e-15,\n",
       " -4.44419300736038e-18)"
      ]
     },
     "execution_count": 101,
     "metadata": {},
     "output_type": "execute_result"
    }
   ],
   "source": [
    "telesniy_ugol_1([1, -2, 1], [2, 5, 7], [4, 9, 5])"
   ]
  }
 ],
 "metadata": {
  "kernelspec": {
   "display_name": "Python 3 (ipykernel)",
   "language": "python",
   "name": "python3"
  },
  "language_info": {
   "codemirror_mode": {
    "name": "ipython",
    "version": 3
   },
   "file_extension": ".py",
   "mimetype": "text/x-python",
   "name": "python",
   "nbconvert_exporter": "python",
   "pygments_lexer": "ipython3",
   "version": "3.9.7"
  }
 },
 "nbformat": 4,
 "nbformat_minor": 5
}
