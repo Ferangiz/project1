{
 "cells": [
  {
   "cell_type": "code",
   "execution_count": 117,
   "id": "b985137e",
   "metadata": {},
   "outputs": [],
   "source": [
    "import numpy as np\n",
    "import sympy\n",
    "import math\n",
    "from sympy import *\n",
    "from sympy.matrices import Matrix\n",
    "from math import hypot"
   ]
  },
  {
   "cell_type": "code",
   "execution_count": 122,
   "id": "ec50fd6e",
   "metadata": {},
   "outputs": [],
   "source": [
    "def function(x1, y1, z1, x2, y2, z2, x3, y3, z3):\n",
    "    r1=(x3-x1, y3-y1, z3-z1)\n",
    "    r2=(x2-x1, y2-y1, z2-z1)\n",
    "    r3=(x2-x3, y2-y3, z2-z3)\n",
    "    R1=((x3-x1)**2+(y3-y1)**2+(z3-z1)**2)**0.5\n",
    "    R2=((x2-x1)**2+(y2-y1)**2+(z2-z1)**2)**0.5\n",
    "    R3=((x2-x3)**2+(y2-y3)**2+(z2-z3)**2)**0.5\n",
    "    a1=np.array(r1)\n",
    "    b1=np.array(r2)\n",
    "    c1=R3*np.dot(a1,b1)\n",
    "    a2=np.array(r2)\n",
    "    b2=np.array(r3)\n",
    "    c2=R1*np.dot(a2,b2)\n",
    "    a3=np.array(r3)\n",
    "    b3=np.array(r1)\n",
    "    c3=R2*np.dot(a3,b3)\n",
    "    l=R1*R2*R3\n",
    "    return r1, r2, r3, R1, R2, R3, c1, c2, c3, l"
   ]
  },
  {
   "cell_type": "code",
   "execution_count": 123,
   "id": "25f29dfd",
   "metadata": {},
   "outputs": [
    {
     "data": {
      "text/plain": [
       "((0, 5, -35),\n",
       " (1, 3, -31),\n",
       " (1, -2, 4),\n",
       " 35.35533905932738,\n",
       " 31.160872901765767,\n",
       " 4.58257569495584,\n",
       " 5040.833264451424,\n",
       " -4560.838738653231,\n",
       " -4674.130935264865,\n",
       " 5048.638430309701)"
      ]
     },
     "execution_count": 123,
     "metadata": {},
     "output_type": "execute_result"
    }
   ],
   "source": [
    "function(1, 2, 40, 2, 5, 9, 1, 7, 5)"
   ]
  },
  {
   "cell_type": "code",
   "execution_count": 107,
   "id": "f731976b",
   "metadata": {},
   "outputs": [
    {
     "name": "stdout",
     "output_type": "stream",
     "text": [
      "[[  0   5  35]\n",
      " [  1   3 -31]\n",
      " [  1  -2   4]]\n"
     ]
    }
   ],
   "source": [
    "A = np.matrix('0,5,35; 1,3,-31; 1,-2,4')\n",
    "print(A)"
   ]
  },
  {
   "cell_type": "code",
   "execution_count": 111,
   "id": "da08754c",
   "metadata": {},
   "outputs": [
    {
     "data": {
      "text/plain": [
       "-350.00000000000017"
      ]
     },
     "execution_count": 111,
     "metadata": {},
     "output_type": "execute_result"
    }
   ],
   "source": [
    "u=np.linalg.det(A)\n",
    "u"
   ]
  },
  {
   "cell_type": "code",
   "execution_count": 114,
   "id": "c5a505fc",
   "metadata": {},
   "outputs": [],
   "source": [
    "def telesniy_ugol(u,l,c1,c2,c3):\n",
    "    w=2*atan(u/(l+c1+c2+c3))\n",
    "    return w"
   ]
  },
  {
   "cell_type": "code",
   "execution_count": 115,
   "id": "5e058b04",
   "metadata": {},
   "outputs": [
    {
     "data": {
      "text/latex": [
       "$\\displaystyle -0.0362241721287423$"
      ],
      "text/plain": [
       "-0.0362241721287423"
      ]
     },
     "execution_count": 115,
     "metadata": {},
     "output_type": "execute_result"
    }
   ],
   "source": [
    "telesniy_ugol(-350, 5048, 5040, 4560, 4674)"
   ]
  },
  {
   "cell_type": "code",
   "execution_count": 79,
   "id": "028c0a44",
   "metadata": {},
   "outputs": [
    {
     "data": {
      "text/plain": [
       "array([ 1,  2,  3, 10, 20, 30])"
      ]
     },
     "execution_count": 79,
     "metadata": {},
     "output_type": "execute_result"
    }
   ],
   "source": [
    "def function(x1, y1, z1, x2, y2, z2, x3, y3, z3):\n",
    "    r1=(x3-x1, y3-y1, z3-z1)\n",
    "    r2=(x2-x1, y2-y1, z2-z1)\n",
    "    r3=(x2-x3, y2-y3, z2-z3)\n",
    "    R1=((x3-x1)**2+1y3-y1)**2+(z3-z1)**2)**0.5\n",
    "    R2=((x2-x1)**2+(y2-y1)**2+(z2-z1)**2)**0.5\n",
    "    R3=((x2-x3)**2+(y2-y3)**2+(z2-z3)**2)**0.5\n",
    "    a1=np.array(r1)\n",
    "    b1=np.array(r2)\n",
    "    c1=R3*np.dot(a1,b1)\n",
    "    a2=np.array(r2)\n",
    "    b2=np.array(r3)\n",
    "    c2=R1*np.dot(a2,b2)\n",
    "    a3=np.array(r3)\n",
    "    b3=np.array(r1)\n",
    "    c3=R2*np.dot(a3,b3)\n",
    "    return r1, r2, r3, R1, R2, R3, c1, c2, c3\n",
    "a4=np.array([1,2,3])\n",
    "a4=np.append(a4,[10,20,30])\n",
    "m=Matrix()"
   ]
  },
  {
   "cell_type": "code",
   "execution_count": 94,
   "id": "93cd767f",
   "metadata": {},
   "outputs": [
    {
     "ename": "TypeError",
     "evalue": "_unary_dispatcher() missing 1 required positional argument: 'a'",
     "output_type": "error",
     "traceback": [
      "\u001b[0;31m---------------------------------------------------------------------------\u001b[0m",
      "\u001b[0;31mTypeError\u001b[0m                                 Traceback (most recent call last)",
      "\u001b[0;32m/var/folders/wx/tcs_v5y51936c1n2vxpmcwpr0000gn/T/ipykernel_30574/4291374821.py\u001b[0m in \u001b[0;36m<module>\u001b[0;34m\u001b[0m\n\u001b[1;32m      1\u001b[0m \u001b[0ma4\u001b[0m\u001b[0;34m=\u001b[0m\u001b[0mnp\u001b[0m\u001b[0;34m.\u001b[0m\u001b[0marray\u001b[0m\u001b[0;34m(\u001b[0m\u001b[0;34m[\u001b[0m\u001b[0;36m1\u001b[0m\u001b[0;34m,\u001b[0m\u001b[0;36m2\u001b[0m\u001b[0;34m,\u001b[0m\u001b[0;36m3\u001b[0m\u001b[0;34m]\u001b[0m\u001b[0;34m)\u001b[0m\u001b[0;34m\u001b[0m\u001b[0;34m\u001b[0m\u001b[0m\n\u001b[1;32m      2\u001b[0m \u001b[0mb4\u001b[0m\u001b[0;34m=\u001b[0m\u001b[0mnp\u001b[0m\u001b[0;34m.\u001b[0m\u001b[0marray\u001b[0m\u001b[0;34m(\u001b[0m\u001b[0;34m[\u001b[0m\u001b[0;36m10\u001b[0m\u001b[0;34m,\u001b[0m\u001b[0;36m20\u001b[0m\u001b[0;34m,\u001b[0m\u001b[0;36m30\u001b[0m\u001b[0;34m]\u001b[0m\u001b[0;34m)\u001b[0m\u001b[0;34m\u001b[0m\u001b[0;34m\u001b[0m\u001b[0m\n\u001b[0;32m----> 3\u001b[0;31m \u001b[0mm\u001b[0m\u001b[0;34m=\u001b[0m\u001b[0mnp\u001b[0m\u001b[0;34m.\u001b[0m\u001b[0mlinalg\u001b[0m\u001b[0;34m.\u001b[0m\u001b[0mdet\u001b[0m\u001b[0;34m(\u001b[0m\u001b[0;34m)\u001b[0m\u001b[0;34m\u001b[0m\u001b[0;34m\u001b[0m\u001b[0m\n\u001b[0m",
      "\u001b[0;32m<__array_function__ internals>\u001b[0m in \u001b[0;36mdet\u001b[0;34m(*args, **kwargs)\u001b[0m\n",
      "\u001b[0;31mTypeError\u001b[0m: _unary_dispatcher() missing 1 required positional argument: 'a'"
     ]
    }
   ],
   "source": [
    "a4=np.array([1,2,3])\n",
    "b4=np.array([10,20,30])\n",
    "m=np.linalg.det()\n",
    "    u=-350\n",
    "    l=5048.638430309701\n",
    "    c1=5040.833264451424\n",
    "    c2=-4560.838738653231\n",
    "    c3=-4674.130935264865,"
   ]
  },
  {
   "cell_type": "code",
   "execution_count": 95,
   "id": "0f762a30",
   "metadata": {},
   "outputs": [
    {
     "name": "stdout",
     "output_type": "stream",
     "text": [
      "[[0 1 2]\n",
      " [1 2 3]\n",
      " [2 3 4]\n",
      " [3 4 5]\n",
      " [4 5 6]\n",
      " [5 6 7]\n",
      " [6 7 8]\n",
      " [7 8 9]]\n"
     ]
    }
   ],
   "source": [
    "from numpy.lib import stride_tricks\n",
    "\n",
    "def rolling(a, window):\n",
    "    shape = (a.size - window + 1, window)\n",
    "    strides = (a.itemsize, a.itemsize)\n",
    "    return stride_tricks.as_strided(a, shape=shape, strides=strides)\n",
    "Z = rolling(np.arange(10), 3)\n",
    "print(Z)"
   ]
  },
  {
   "cell_type": "code",
   "execution_count": 116,
   "id": "799c93ba",
   "metadata": {},
   "outputs": [
    {
     "ename": "TypeError",
     "evalue": "unsupported operand type(s) for -: 'tuple' and 'tuple'",
     "output_type": "error",
     "traceback": [
      "\u001b[0;31m---------------------------------------------------------------------------\u001b[0m",
      "\u001b[0;31mTypeError\u001b[0m                                 Traceback (most recent call last)",
      "\u001b[0;32m/var/folders/wx/tcs_v5y51936c1n2vxpmcwpr0000gn/T/ipykernel_30574/1217526649.py\u001b[0m in \u001b[0;36m<module>\u001b[0;34m\u001b[0m\n\u001b[1;32m     10\u001b[0m \u001b[0mP1\u001b[0m \u001b[0;34m=\u001b[0m \u001b[0;34m(\u001b[0m\u001b[0;36m2\u001b[0m\u001b[0;34m,\u001b[0m \u001b[0;36m12\u001b[0m\u001b[0;34m,\u001b[0m \u001b[0;36m22\u001b[0m\u001b[0;34m)\u001b[0m\u001b[0;34m\u001b[0m\u001b[0;34m\u001b[0m\u001b[0m\n\u001b[1;32m     11\u001b[0m \u001b[0mp\u001b[0m  \u001b[0;34m=\u001b[0m \u001b[0;34m(\u001b[0m\u001b[0;36m3\u001b[0m\u001b[0;34m,\u001b[0m \u001b[0;36m13\u001b[0m\u001b[0;34m,\u001b[0m \u001b[0;36m23\u001b[0m\u001b[0;34m)\u001b[0m\u001b[0;34m\u001b[0m\u001b[0;34m\u001b[0m\u001b[0m\n\u001b[0;32m---> 12\u001b[0;31m \u001b[0mprint\u001b[0m\u001b[0;34m(\u001b[0m\u001b[0mdistance\u001b[0m\u001b[0;34m(\u001b[0m\u001b[0mP0\u001b[0m\u001b[0;34m,\u001b[0m \u001b[0mP1\u001b[0m\u001b[0;34m,\u001b[0m \u001b[0mp\u001b[0m\u001b[0;34m)\u001b[0m\u001b[0;34m)\u001b[0m\u001b[0;34m\u001b[0m\u001b[0;34m\u001b[0m\u001b[0m\n\u001b[0m",
      "\u001b[0;32m/var/folders/wx/tcs_v5y51936c1n2vxpmcwpr0000gn/T/ipykernel_30574/1217526649.py\u001b[0m in \u001b[0;36mdistance\u001b[0;34m(P0, P1, p)\u001b[0m\n\u001b[1;32m      1\u001b[0m \u001b[0;32mdef\u001b[0m \u001b[0mdistance\u001b[0m\u001b[0;34m(\u001b[0m\u001b[0mP0\u001b[0m\u001b[0;34m,\u001b[0m \u001b[0mP1\u001b[0m\u001b[0;34m,\u001b[0m \u001b[0mp\u001b[0m\u001b[0;34m)\u001b[0m\u001b[0;34m:\u001b[0m\u001b[0;34m\u001b[0m\u001b[0;34m\u001b[0m\u001b[0m\n\u001b[0;32m----> 2\u001b[0;31m     \u001b[0mT\u001b[0m \u001b[0;34m=\u001b[0m \u001b[0mP1\u001b[0m \u001b[0;34m-\u001b[0m \u001b[0mP0\u001b[0m\u001b[0;34m\u001b[0m\u001b[0;34m\u001b[0m\u001b[0m\n\u001b[0m\u001b[1;32m      3\u001b[0m     \u001b[0mL\u001b[0m \u001b[0;34m=\u001b[0m \u001b[0;34m(\u001b[0m\u001b[0mT\u001b[0m\u001b[0;34m**\u001b[0m\u001b[0;36m2\u001b[0m\u001b[0;34m)\u001b[0m\u001b[0;34m.\u001b[0m\u001b[0msum\u001b[0m\u001b[0;34m(\u001b[0m\u001b[0maxis\u001b[0m\u001b[0;34m=\u001b[0m\u001b[0;36m1\u001b[0m\u001b[0;34m)\u001b[0m\u001b[0;34m\u001b[0m\u001b[0;34m\u001b[0m\u001b[0m\n\u001b[1;32m      4\u001b[0m     \u001b[0mU\u001b[0m \u001b[0;34m=\u001b[0m \u001b[0;34m-\u001b[0m\u001b[0;34m(\u001b[0m\u001b[0;34m(\u001b[0m\u001b[0mP0\u001b[0m\u001b[0;34m[\u001b[0m\u001b[0;34m:\u001b[0m\u001b[0;34m,\u001b[0m\u001b[0;36m0\u001b[0m\u001b[0;34m]\u001b[0m \u001b[0;34m-\u001b[0m \u001b[0mp\u001b[0m\u001b[0;34m[\u001b[0m\u001b[0;34m...\u001b[0m\u001b[0;34m,\u001b[0m\u001b[0;36m0\u001b[0m\u001b[0;34m]\u001b[0m\u001b[0;34m)\u001b[0m \u001b[0;34m*\u001b[0m \u001b[0mT\u001b[0m\u001b[0;34m[\u001b[0m\u001b[0;34m:\u001b[0m\u001b[0;34m,\u001b[0m\u001b[0;36m0\u001b[0m\u001b[0;34m]\u001b[0m \u001b[0;34m+\u001b[0m \u001b[0;34m(\u001b[0m\u001b[0mP0\u001b[0m\u001b[0;34m[\u001b[0m\u001b[0;34m:\u001b[0m\u001b[0;34m,\u001b[0m\u001b[0;36m1\u001b[0m\u001b[0;34m]\u001b[0m \u001b[0;34m-\u001b[0m \u001b[0mp\u001b[0m\u001b[0;34m[\u001b[0m\u001b[0;34m...\u001b[0m\u001b[0;34m,\u001b[0m\u001b[0;36m1\u001b[0m\u001b[0;34m]\u001b[0m\u001b[0;34m)\u001b[0m \u001b[0;34m*\u001b[0m \u001b[0mT\u001b[0m\u001b[0;34m[\u001b[0m\u001b[0;34m:\u001b[0m\u001b[0;34m,\u001b[0m\u001b[0;36m1\u001b[0m\u001b[0;34m]\u001b[0m\u001b[0;34m)\u001b[0m \u001b[0;34m/\u001b[0m \u001b[0mL\u001b[0m\u001b[0;34m\u001b[0m\u001b[0;34m\u001b[0m\u001b[0m\n\u001b[1;32m      5\u001b[0m     \u001b[0mU\u001b[0m \u001b[0;34m=\u001b[0m \u001b[0mU\u001b[0m\u001b[0;34m.\u001b[0m\u001b[0mreshape\u001b[0m\u001b[0;34m(\u001b[0m\u001b[0mlen\u001b[0m\u001b[0;34m(\u001b[0m\u001b[0mU\u001b[0m\u001b[0;34m)\u001b[0m\u001b[0;34m,\u001b[0m\u001b[0;36m1\u001b[0m\u001b[0;34m)\u001b[0m\u001b[0;34m\u001b[0m\u001b[0;34m\u001b[0m\u001b[0m\n",
      "\u001b[0;31mTypeError\u001b[0m: unsupported operand type(s) for -: 'tuple' and 'tuple'"
     ]
    }
   ],
   "source": [
    "def distance(P0, P1, p):\n",
    "    T = P1 - P0\n",
    "    L = (T**2).sum(axis=1)\n",
    "    U = -((P0[:,0] - p[...,0]) * T[:,0] + (P0[:,1] - p[...,1]) * T[:,1]) / L\n",
    "    U = U.reshape(len(U),1)\n",
    "    D = P0 + U * T - p\n",
    "    return np.sqrt((D**2).sum(axis=1))\n",
    "\n",
    "P0 = (1, 11, 12)\n",
    "P1 = (2, 12, 22)\n",
    "p  = (3, 13, 23)\n",
    "print(distance(P0, P1, p))"
   ]
  },
  {
   "cell_type": "code",
   "execution_count": 92,
   "id": "fefec3c1",
   "metadata": {},
   "outputs": [
    {
     "data": {
      "text/latex": [
       "$\\displaystyle 1$"
      ],
      "text/plain": [
       "1"
      ]
     },
     "execution_count": 92,
     "metadata": {},
     "output_type": "execute_result"
    }
   ],
   "source": [
    "a4=np.array([1,2])\n",
    "a4=np.append(a4,[10,20,30])\n",
    "m=Matrix()\n",
    "m.det()"
   ]
  },
  {
   "cell_type": "code",
   "execution_count": null,
   "id": "ae4c00a9",
   "metadata": {},
   "outputs": [],
   "source": []
  },
  {
   "cell_type": "code",
   "execution_count": 87,
   "id": "4ff2cb80",
   "metadata": {},
   "outputs": [
    {
     "ename": "AttributeError",
     "evalue": "'numpy.ndarray' object has no attribute 'det'",
     "output_type": "error",
     "traceback": [
      "\u001b[0;31m---------------------------------------------------------------------------\u001b[0m",
      "\u001b[0;31mAttributeError\u001b[0m                            Traceback (most recent call last)",
      "\u001b[0;32m/var/folders/wx/tcs_v5y51936c1n2vxpmcwpr0000gn/T/ipykernel_30574/3622955274.py\u001b[0m in \u001b[0;36m<module>\u001b[0;34m\u001b[0m\n\u001b[0;32m----> 1\u001b[0;31m \u001b[0mm\u001b[0m\u001b[0;34m.\u001b[0m\u001b[0mdet\u001b[0m\u001b[0;34m(\u001b[0m\u001b[0;34m)\u001b[0m\u001b[0;34m\u001b[0m\u001b[0;34m\u001b[0m\u001b[0m\n\u001b[0m",
      "\u001b[0;31mAttributeError\u001b[0m: 'numpy.ndarray' object has no attribute 'det'"
     ]
    }
   ],
   "source": [
    "m.det()"
   ]
  },
  {
   "cell_type": "code",
   "execution_count": 85,
   "id": "dd09a9b6",
   "metadata": {},
   "outputs": [
    {
     "data": {
      "text/latex": [
       "$\\displaystyle \\left[\\begin{matrix}0 & -3 & 35\\\\1 & -5 & 31\\\\1 & -2 & 4\\end{matrix}\\right]$"
      ],
      "text/plain": [
       "Matrix([\n",
       "[0, -3, 35],\n",
       "[1, -5, 31],\n",
       "[1, -2,  4]])"
      ]
     },
     "execution_count": 85,
     "metadata": {},
     "output_type": "execute_result"
    }
   ],
   "source": [
    "m"
   ]
  },
  {
   "cell_type": "code",
   "execution_count": 74,
   "id": "96ee74ae",
   "metadata": {},
   "outputs": [
    {
     "data": {
      "text/latex": [
       "$\\displaystyle 24$"
      ],
      "text/plain": [
       "24"
      ]
     },
     "execution_count": 74,
     "metadata": {},
     "output_type": "execute_result"
    }
   ],
   "source": [
    "m.det()"
   ]
  },
  {
   "cell_type": "code",
   "execution_count": null,
   "id": "260c643e",
   "metadata": {},
   "outputs": [],
   "source": [
    "def telesniy_ugol():\n",
    "    w=2*atan((m.det()/(R1*R2*R3+c1+c2+c3))\n",
    "    return"
   ]
  },
  {
   "cell_type": "code",
   "execution_count": 53,
   "id": "bf70981f",
   "metadata": {},
   "outputs": [],
   "source": [
    "def function2(x1, y1, z1, x2, y2, z2, x3, y3, z3):\n",
    "    r1=(x3-x1, y3-y1, z3-z1)\n",
    "    r2=(x2-x1, y2-y1, z2-z1)\n",
    "    r3=(x2-x3, y2-y3, z2-z3)\n",
    "    a1=np.array(r1)\n",
    "    b1=np.array(r2)\n",
    "    c1=np.dot(a1,b1)\n",
    "    a2=np.array(r2)\n",
    "    b2=np.array(r3)\n",
    "    c2=np.dot(a2,b2)\n",
    "    a3=np.array(r3)\n",
    "    b3=np.array(r1)\n",
    "    c3=np.dot(a3,b3)\n",
    "    return c1, c2, c3"
   ]
  },
  {
   "cell_type": "code",
   "execution_count": 54,
   "id": "e47b4339",
   "metadata": {},
   "outputs": [
    {
     "data": {
      "text/plain": [
       "(40, 23, 2)"
      ]
     },
     "execution_count": 54,
     "metadata": {},
     "output_type": "execute_result"
    }
   ],
   "source": [
    "function2(5, 8, 4, 2, 5, 9, 1, 7, 5)"
   ]
  },
  {
   "cell_type": "code",
   "execution_count": 34,
   "id": "0edd25f2",
   "metadata": {},
   "outputs": [],
   "source": [
    "def function3(x1, y1, z1, x2, y2, z2, x3, y3, z3):\n",
    "    r1=(x3-x1, y3-y1, z3-z1)\n",
    "    r2=(x2-x1, y2-y1, z2-z1)\n",
    "    r3=(x2-x3, y2-y3, z2-z3)\n",
    "    R1=((x3-x1)**2+(y3-y1)**2+(z3-z1)**2)**0.5\n",
    "    R2=((x2-x1)**2+(y2-y1)**2+(z2-z1)**2)**0.5\n",
    "    R3=((x2-x3)**2+(y2-y3)**2+(z2-z3)**2)**0.5\n",
    "    tetta1=acos((R1**2+R2**2-R3**2)/(2*R1*R2))\n",
    "    tetta2=acos((R3**2+R2**2-R1**2)/(2*R3*R2))\n",
    "    tetta3=acos((R1**2+R3**2-R2**2)/(2*R3*R1))\n",
    "    d1=R1*R2*tetta1\n",
    "    d2=R2*R3*tetta2\n",
    "    d3=R1*R3*tetta3\n",
    "    return tetta1, tetta2, tetta3, d1, d2, d3"
   ]
  },
  {
   "cell_type": "code",
   "execution_count": 35,
   "id": "58a57f16",
   "metadata": {},
   "outputs": [
    {
     "data": {
      "text/plain": [
       "((-6, -6, -6),\n",
       " (-3, -3, -3),\n",
       " (3, 3, 3),\n",
       " 10.392304845413264,\n",
       " 5.196152422706632,\n",
       " 5.196152422706632,\n",
       " 0,\n",
       " 3.14159265358979,\n",
       " 0,\n",
       " 0,\n",
       " 84.8230016469244,\n",
       " 0)"
      ]
     },
     "execution_count": 35,
     "metadata": {},
     "output_type": "execute_result"
    }
   ],
   "source": [
    "function(9, 8, 7, 6, 5, 4, 3, 2, 1)"
   ]
  },
  {
   "cell_type": "code",
   "execution_count": 36,
   "id": "642e29d1",
   "metadata": {},
   "outputs": [],
   "source": [
    "def function3(x1, y1, z1, x2, y2, z2, x3, y3, z3):\n",
    "    r1=(x3-x1, y3-y1, z3-z1)\n",
    "    r2=(x2-x1, y2-y1, z2-z1)\n",
    "    r3=(x2-x3, y2-y3, z2-z3)\n",
    "    R1=((x3-x1)**2+(y3-y1)**2+(z3-z1)**2)**0.5\n",
    "    R2=((x2-x1)**2+(y2-y1)**2+(z2-z1)**2)**0.5\n",
    "    R3=((x2-x3)**2+(y2-y3)**2+(z2-z3)**2)**0.5\n",
    "    tetta1=acos((R1**2+R2**2-R3**2)/(2*R1*R2))\n",
    "    tetta2=acos((R3**2+R2**2-R1**2)/(2*R3*R2))\n",
    "    tetta3=acos((R1**2+R3**2-R2**2)/(2*R3*R1))\n",
    "    d1=R1*R2*tetta1\n",
    "    d2=R2*R3*tetta2\n",
    "    d3=R1*R3*tetta3\n",
    "    m=Matrix([[1, 2, 7], [2, 3, 1], [2, 4, 6]])\n",
    "    return tetta1, tetta2, tetta3, d1, d2, d3"
   ]
  },
  {
   "cell_type": "code",
   "execution_count": 37,
   "id": "f58e0bc4",
   "metadata": {},
   "outputs": [],
   "source": [
    "m=Matrix([[1, 2, 7], [2, 3, 1], [2, 4, 6]])"
   ]
  },
  {
   "cell_type": "code",
   "execution_count": 38,
   "id": "afc91e9f",
   "metadata": {},
   "outputs": [
    {
     "ename": "NameError",
     "evalue": "name 'x3' is not defined",
     "output_type": "error",
     "traceback": [
      "\u001b[0;31m---------------------------------------------------------------------------\u001b[0m",
      "\u001b[0;31mNameError\u001b[0m                                 Traceback (most recent call last)",
      "\u001b[0;32m/var/folders/wx/tcs_v5y51936c1n2vxpmcwpr0000gn/T/ipykernel_30574/1711083783.py\u001b[0m in \u001b[0;36m<module>\u001b[0;34m\u001b[0m\n\u001b[0;32m----> 1\u001b[0;31m \u001b[0mm1\u001b[0m\u001b[0;34m=\u001b[0m\u001b[0mMatrix\u001b[0m\u001b[0;34m(\u001b[0m\u001b[0;34m[\u001b[0m\u001b[0;34m[\u001b[0m\u001b[0;34m(\u001b[0m\u001b[0mx3\u001b[0m\u001b[0;34m-\u001b[0m\u001b[0mx1\u001b[0m\u001b[0;34m,\u001b[0m \u001b[0my3\u001b[0m\u001b[0;34m-\u001b[0m\u001b[0my1\u001b[0m\u001b[0;34m,\u001b[0m \u001b[0mz3\u001b[0m\u001b[0;34m-\u001b[0m\u001b[0mz1\u001b[0m\u001b[0;34m)\u001b[0m\u001b[0;34m]\u001b[0m\u001b[0;34m,\u001b[0m \u001b[0;34m[\u001b[0m\u001b[0;34m(\u001b[0m\u001b[0mx2\u001b[0m\u001b[0;34m-\u001b[0m\u001b[0mx1\u001b[0m\u001b[0;34m,\u001b[0m \u001b[0my2\u001b[0m\u001b[0;34m-\u001b[0m\u001b[0my1\u001b[0m\u001b[0;34m,\u001b[0m \u001b[0mz2\u001b[0m\u001b[0;34m-\u001b[0m\u001b[0mz1\u001b[0m\u001b[0;34m)\u001b[0m\u001b[0;34m]\u001b[0m\u001b[0;34m,\u001b[0m \u001b[0;34m[\u001b[0m\u001b[0mx2\u001b[0m\u001b[0;34m-\u001b[0m\u001b[0mx3\u001b[0m\u001b[0;34m,\u001b[0m \u001b[0my2\u001b[0m\u001b[0;34m-\u001b[0m\u001b[0my3\u001b[0m\u001b[0;34m,\u001b[0m \u001b[0mz2\u001b[0m\u001b[0;34m-\u001b[0m\u001b[0mz3\u001b[0m\u001b[0;34m]\u001b[0m\u001b[0;34m]\u001b[0m\u001b[0;34m)\u001b[0m\u001b[0;34m\u001b[0m\u001b[0;34m\u001b[0m\u001b[0m\n\u001b[0m",
      "\u001b[0;31mNameError\u001b[0m: name 'x3' is not defined"
     ]
    }
   ],
   "source": [
    "m1=Matrix([[(x3-x1, y3-y1, z3-z1)], [(x2-x1, y2-y1, z2-z1)], [x2-x3, y2-y3, z2-z3]])"
   ]
  },
  {
   "cell_type": "code",
   "execution_count": 96,
   "id": "1ab11db7",
   "metadata": {},
   "outputs": [],
   "source": [
    "def function4(x1, y1, z1, x2, y2, z2, x3, y3, z3):\n",
    "    r1=(x3-x1, y3-y1, z3-z1)\n",
    "    r2=(x2-x1, y2-y1, z2-z1)\n",
    "    r3=(x2-x3, y2-y3, z2-z3)\n",
    "    m2=Matrix([[r1], [r2], [r3]])\n",
    "    return r1, r2, r3, m2"
   ]
  },
  {
   "cell_type": "code",
   "execution_count": 97,
   "id": "5ed5f6f0",
   "metadata": {},
   "outputs": [
    {
     "data": {
      "text/plain": [
       "((-6, -6, -6),\n",
       " (-3, -3, -3),\n",
       " (3, 3, 3),\n",
       " Matrix([\n",
       " [(-6, -6, -6)],\n",
       " [(-3, -3, -3)],\n",
       " [   (3, 3, 3)]]))"
      ]
     },
     "execution_count": 97,
     "metadata": {},
     "output_type": "execute_result"
    }
   ],
   "source": [
    "function4(9, 8, 7, 6, 5, 4, 3, 2, 1)"
   ]
  },
  {
   "cell_type": "code",
   "execution_count": 125,
   "id": "c55bf102",
   "metadata": {},
   "outputs": [
    {
     "name": "stdout",
     "output_type": "stream",
     "text": [
      "6.782329983125268 39.824615503479755 38.262252939417984\n"
     ]
    }
   ],
   "source": [
    "A = [1, 2, 1]\n",
    "B = [2, 5, 7]\n",
    "D = [40, 9, 5]\n",
    "lenr1 = math.sqrt( ((B[0]-A[0])**2)+((B[1]-A[1])**2)+(B[2]-A[2])**2)\n",
    "lenr2 = math.sqrt( ((D[0]-A[0])**2)+((D[1]-A[1])**2)+(D[2]-A[2])**2)\n",
    "lenr3 = math.sqrt( ((D[0]-B[0])**2)+((D[1]-B[1])**2)+(D[2]-B[2])**2)\n",
    "print(lenr1, lenr2, lenr3)"
   ]
  },
  {
   "cell_type": "code",
   "execution_count": null,
   "id": "a747ecaf",
   "metadata": {},
   "outputs": [],
   "source": [
    "1, 2, 40, 2, 5, 9, 1, 7, 5"
   ]
  }
 ],
 "metadata": {
  "kernelspec": {
   "display_name": "Python 3 (ipykernel)",
   "language": "python",
   "name": "python3"
  },
  "language_info": {
   "codemirror_mode": {
    "name": "ipython",
    "version": 3
   },
   "file_extension": ".py",
   "mimetype": "text/x-python",
   "name": "python",
   "nbconvert_exporter": "python",
   "pygments_lexer": "ipython3",
   "version": "3.9.7"
  }
 },
 "nbformat": 4,
 "nbformat_minor": 5
}
